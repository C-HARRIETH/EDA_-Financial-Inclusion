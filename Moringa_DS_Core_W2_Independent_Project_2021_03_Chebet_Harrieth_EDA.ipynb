{
  "nbformat": 4,
  "nbformat_minor": 0,
  "metadata": {
    "colab": {
      "name": "Moringa_DS_Core_W2_Independent_Project_2021_03_Chebet_Harrieth_EDA",
      "provenance": [],
      "collapsed_sections": [
        "kLG2VTrnTvYL",
        "XecOwPNorl2W",
        "J4wfHZwQrs-t",
        "a9BPYqunry97",
        "7KMRBJ7zr9HD",
        "zSGyg6kWsBUl",
        "iUNbvIvnT7ep",
        "OI3P3YnHUEBk",
        "ckfufNrcUHeH",
        "6XC_g-zKxe-r",
        "FlBMxEDBUc9B",
        "rF2ABPsHUtbZ",
        "vTbdjSrhVIiT",
        "lQ2G4ZPDVOXE",
        "xrmHVMVsVS--",
        "HPQviDmNtta8",
        "qjFHK1CKty7o",
        "HSsicSdvt4Zs"
      ],
      "toc_visible": true,
      "include_colab_link": true
    },
    "kernelspec": {
      "name": "python3",
      "display_name": "Python 3"
    }
  },
  "cells": [
    {
      "cell_type": "markdown",
      "metadata": {
        "id": "view-in-github",
        "colab_type": "text"
      },
      "source": [
        "<a href=\"https://colab.research.google.com/github/C-HARRIETH/EDA_-Financial-Inclusion/blob/main/Moringa_DS_Core_W2_Independent_Project_2021_03_Chebet_Harrieth_EDA.ipynb\" target=\"_parent\"><img src=\"https://colab.research.google.com/assets/colab-badge.svg\" alt=\"Open In Colab\"/></a>"
      ]
    },
    {
      "cell_type": "markdown",
      "metadata": {
        "id": "xMxtPsqcTsSH"
      },
      "source": [
        "# **FINANCIAL INCLUSION ANALYSIS**"
      ]
    },
    {
      "cell_type": "markdown",
      "metadata": {
        "id": "kLG2VTrnTvYL"
      },
      "source": [
        "## 1. Defining the Question"
      ]
    },
    {
      "cell_type": "markdown",
      "metadata": {
        "id": "XecOwPNorl2W"
      },
      "source": [
        "### a) Specifying the Data Analytic Question"
      ]
    },
    {
      "cell_type": "markdown",
      "metadata": {
        "id": "9ozBnKfehSAw"
      },
      "source": [
        "Figure out how we can predict which individuals are most likely to have or use a bank account. \r\n",
        "\r\n",
        "The solution will help provide an indication of the state of financial inclusion in Kenya, Rwanda, Tanzania, and Uganda, while providing insights into some of the key demographic factors that might drive individuals’ financial outcomes."
      ]
    },
    {
      "cell_type": "markdown",
      "metadata": {
        "id": "J4wfHZwQrs-t"
      },
      "source": [
        "### b) Defining the Metric for Success"
      ]
    },
    {
      "cell_type": "markdown",
      "metadata": {
        "id": "YGlseSeIby42"
      },
      "source": [
        "Getting a high percentage accuracy in the data prediction and getting actionable insights from the analysis."
      ]
    },
    {
      "cell_type": "markdown",
      "metadata": {
        "id": "a9BPYqunry97"
      },
      "source": [
        "### c) Understanding the context "
      ]
    },
    {
      "cell_type": "markdown",
      "metadata": {
        "id": "hTu2vMpZcuUv"
      },
      "source": [
        "Financial Inclusion has been one of the main obstacles to economic and human development in Africa. Upto 13.9% people in East Africa have access to a bank account. The figure is shocking since, access to bank accounts has been, and still is regarded as an indicator of financial inclusion. Banks still play a crucial role in the provision of financial services such as empowering households to save and easens the process of making payments.\r\n",
        "\r\n",
        "Thus, banks are still crucial contributor to lasting economic growth.\r\n",
        "\r\n",
        " "
      ]
    },
    {
      "cell_type": "markdown",
      "metadata": {
        "id": "zSGyg6kWsBUl"
      },
      "source": [
        "### d) Data Relevance"
      ]
    },
    {
      "cell_type": "markdown",
      "metadata": {
        "id": "Xo0vJbSWgpl3"
      },
      "source": [
        "Data provided was highly relevant as it captures the important aspects of factors leading to financial inclusion. "
      ]
    },
    {
      "cell_type": "markdown",
      "metadata": {
        "id": "-FgXrpauF52w"
      },
      "source": [
        "## 2. Importing Necessary Libraries"
      ]
    },
    {
      "cell_type": "code",
      "metadata": {
        "id": "GzToNKu3GExx"
      },
      "source": [
        "# importing pandas library\r\n",
        "import pandas as pd\r\n",
        "\r\n",
        "# importing the numpy library\r\n",
        "import numpy as np\r\n",
        "\r\n",
        "# importing matplotlib\r\n",
        "from matplotlib import pyplot as plt\r\n",
        "\r\n",
        "# importing seaborn\r\n",
        "import seaborn as sns\r\n",
        "%matplotlib inline"
      ],
      "execution_count": 63,
      "outputs": []
    },
    {
      "cell_type": "markdown",
      "metadata": {
        "id": "iUNbvIvnT7ep"
      },
      "source": [
        "## 2. Reading the Data"
      ]
    },
    {
      "cell_type": "code",
      "metadata": {
        "id": "XJn2KjW-WMlG"
      },
      "source": [
        "# Loading the Data from the source i.e. csv\n",
        "# ---\n",
        "Finance= pd.read_csv('Financial_Dataset.csv')\n"
      ],
      "execution_count": 214,
      "outputs": []
    },
    {
      "cell_type": "markdown",
      "metadata": {
        "id": "OI3P3YnHUEBk"
      },
      "source": [
        "## 3. Checking the Data"
      ]
    },
    {
      "cell_type": "code",
      "metadata": {
        "colab": {
          "base_uri": "https://localhost:8080/",
          "height": 377
        },
        "id": "NNmfd04wHmG6",
        "outputId": "1b4993d6-c4b1-4208-90a5-16d8ededaf2f"
      },
      "source": [
        "# Checking the first five records of the dataset\r\n",
        "\r\n",
        "Finance.head()"
      ],
      "execution_count": 3,
      "outputs": [
        {
          "output_type": "execute_result",
          "data": {
            "text/html": [
              "<div>\n",
              "<style scoped>\n",
              "    .dataframe tbody tr th:only-of-type {\n",
              "        vertical-align: middle;\n",
              "    }\n",
              "\n",
              "    .dataframe tbody tr th {\n",
              "        vertical-align: top;\n",
              "    }\n",
              "\n",
              "    .dataframe thead th {\n",
              "        text-align: right;\n",
              "    }\n",
              "</style>\n",
              "<table border=\"1\" class=\"dataframe\">\n",
              "  <thead>\n",
              "    <tr style=\"text-align: right;\">\n",
              "      <th></th>\n",
              "      <th>country</th>\n",
              "      <th>year</th>\n",
              "      <th>uniqueid</th>\n",
              "      <th>Has a Bank account</th>\n",
              "      <th>Type of Location</th>\n",
              "      <th>Cell Phone Access</th>\n",
              "      <th>household_size</th>\n",
              "      <th>Respondent Age</th>\n",
              "      <th>gender_of_respondent</th>\n",
              "      <th>The relathip with head</th>\n",
              "      <th>marital_status</th>\n",
              "      <th>Level of Educuation</th>\n",
              "      <th>Type of Job</th>\n",
              "    </tr>\n",
              "  </thead>\n",
              "  <tbody>\n",
              "    <tr>\n",
              "      <th>0</th>\n",
              "      <td>Kenya</td>\n",
              "      <td>2018</td>\n",
              "      <td>uniqueid_1</td>\n",
              "      <td>Yes</td>\n",
              "      <td>Rural</td>\n",
              "      <td>Yes</td>\n",
              "      <td>3.0</td>\n",
              "      <td>24.0</td>\n",
              "      <td>Female</td>\n",
              "      <td>Spouse</td>\n",
              "      <td>Married/Living together</td>\n",
              "      <td>Secondary education</td>\n",
              "      <td>Self employed</td>\n",
              "    </tr>\n",
              "    <tr>\n",
              "      <th>1</th>\n",
              "      <td>Kenya</td>\n",
              "      <td>2018</td>\n",
              "      <td>uniqueid_2</td>\n",
              "      <td>No</td>\n",
              "      <td>Rural</td>\n",
              "      <td>No</td>\n",
              "      <td>5.0</td>\n",
              "      <td>70.0</td>\n",
              "      <td>Female</td>\n",
              "      <td>Head of Household</td>\n",
              "      <td>Widowed</td>\n",
              "      <td>No formal education</td>\n",
              "      <td>Government Dependent</td>\n",
              "    </tr>\n",
              "    <tr>\n",
              "      <th>2</th>\n",
              "      <td>Kenya</td>\n",
              "      <td>2018</td>\n",
              "      <td>uniqueid_3</td>\n",
              "      <td>Yes</td>\n",
              "      <td>Urban</td>\n",
              "      <td>Yes</td>\n",
              "      <td>5.0</td>\n",
              "      <td>26.0</td>\n",
              "      <td>Male</td>\n",
              "      <td>Other relative</td>\n",
              "      <td>Single/Never Married</td>\n",
              "      <td>Vocational/Specialised training</td>\n",
              "      <td>Self employed</td>\n",
              "    </tr>\n",
              "    <tr>\n",
              "      <th>3</th>\n",
              "      <td>Kenya</td>\n",
              "      <td>2018</td>\n",
              "      <td>uniqueid_4</td>\n",
              "      <td>No</td>\n",
              "      <td>Rural</td>\n",
              "      <td>Yes</td>\n",
              "      <td>5.0</td>\n",
              "      <td>34.0</td>\n",
              "      <td>Female</td>\n",
              "      <td>Head of Household</td>\n",
              "      <td>Married/Living together</td>\n",
              "      <td>Primary education</td>\n",
              "      <td>Formally employed Private</td>\n",
              "    </tr>\n",
              "    <tr>\n",
              "      <th>4</th>\n",
              "      <td>Kenya</td>\n",
              "      <td>2018</td>\n",
              "      <td>uniqueid_5</td>\n",
              "      <td>No</td>\n",
              "      <td>Urban</td>\n",
              "      <td>No</td>\n",
              "      <td>8.0</td>\n",
              "      <td>26.0</td>\n",
              "      <td>Male</td>\n",
              "      <td>Child</td>\n",
              "      <td>Single/Never Married</td>\n",
              "      <td>Primary education</td>\n",
              "      <td>Informally employed</td>\n",
              "    </tr>\n",
              "  </tbody>\n",
              "</table>\n",
              "</div>"
            ],
            "text/plain": [
              "  country  year  ...              Level of Educuation                Type of Job\n",
              "0   Kenya  2018  ...              Secondary education              Self employed\n",
              "1   Kenya  2018  ...              No formal education       Government Dependent\n",
              "2   Kenya  2018  ...  Vocational/Specialised training              Self employed\n",
              "3   Kenya  2018  ...                Primary education  Formally employed Private\n",
              "4   Kenya  2018  ...                Primary education        Informally employed\n",
              "\n",
              "[5 rows x 13 columns]"
            ]
          },
          "metadata": {
            "tags": []
          },
          "execution_count": 3
        }
      ]
    },
    {
      "cell_type": "code",
      "metadata": {
        "colab": {
          "base_uri": "https://localhost:8080/",
          "height": 360
        },
        "id": "qD00CVsnHw2p",
        "outputId": "eaccc945-4e69-4f82-d3b7-0d0f3989a8a2"
      },
      "source": [
        "# Checking the tail of the dataset.\r\n",
        "\r\n",
        "Finance.tail()"
      ],
      "execution_count": 4,
      "outputs": [
        {
          "output_type": "execute_result",
          "data": {
            "text/html": [
              "<div>\n",
              "<style scoped>\n",
              "    .dataframe tbody tr th:only-of-type {\n",
              "        vertical-align: middle;\n",
              "    }\n",
              "\n",
              "    .dataframe tbody tr th {\n",
              "        vertical-align: top;\n",
              "    }\n",
              "\n",
              "    .dataframe thead th {\n",
              "        text-align: right;\n",
              "    }\n",
              "</style>\n",
              "<table border=\"1\" class=\"dataframe\">\n",
              "  <thead>\n",
              "    <tr style=\"text-align: right;\">\n",
              "      <th></th>\n",
              "      <th>country</th>\n",
              "      <th>year</th>\n",
              "      <th>uniqueid</th>\n",
              "      <th>Has a Bank account</th>\n",
              "      <th>Type of Location</th>\n",
              "      <th>Cell Phone Access</th>\n",
              "      <th>household_size</th>\n",
              "      <th>Respondent Age</th>\n",
              "      <th>gender_of_respondent</th>\n",
              "      <th>The relathip with head</th>\n",
              "      <th>marital_status</th>\n",
              "      <th>Level of Educuation</th>\n",
              "      <th>Type of Job</th>\n",
              "    </tr>\n",
              "  </thead>\n",
              "  <tbody>\n",
              "    <tr>\n",
              "      <th>23519</th>\n",
              "      <td>Uganda</td>\n",
              "      <td>2018</td>\n",
              "      <td>uniqueid_2113</td>\n",
              "      <td>No</td>\n",
              "      <td>Rural</td>\n",
              "      <td>Yes</td>\n",
              "      <td>4.0</td>\n",
              "      <td>48.0</td>\n",
              "      <td>Female</td>\n",
              "      <td>Head of Household</td>\n",
              "      <td>Divorced/Seperated</td>\n",
              "      <td>No formal education</td>\n",
              "      <td>Other Income</td>\n",
              "    </tr>\n",
              "    <tr>\n",
              "      <th>23520</th>\n",
              "      <td>Uganda</td>\n",
              "      <td>2018</td>\n",
              "      <td>uniqueid_2114</td>\n",
              "      <td>No</td>\n",
              "      <td>Rural</td>\n",
              "      <td>Yes</td>\n",
              "      <td>2.0</td>\n",
              "      <td>27.0</td>\n",
              "      <td>Female</td>\n",
              "      <td>Head of Household</td>\n",
              "      <td>Single/Never Married</td>\n",
              "      <td>Secondary education</td>\n",
              "      <td>Other Income</td>\n",
              "    </tr>\n",
              "    <tr>\n",
              "      <th>23521</th>\n",
              "      <td>Uganda</td>\n",
              "      <td>2018</td>\n",
              "      <td>uniqueid_2115</td>\n",
              "      <td>No</td>\n",
              "      <td>Rural</td>\n",
              "      <td>Yes</td>\n",
              "      <td>5.0</td>\n",
              "      <td>27.0</td>\n",
              "      <td>Female</td>\n",
              "      <td>Parent</td>\n",
              "      <td>Widowed</td>\n",
              "      <td>Primary education</td>\n",
              "      <td>Other Income</td>\n",
              "    </tr>\n",
              "    <tr>\n",
              "      <th>23522</th>\n",
              "      <td>Uganda</td>\n",
              "      <td>2018</td>\n",
              "      <td>uniqueid_2116</td>\n",
              "      <td>No</td>\n",
              "      <td>Urban</td>\n",
              "      <td>Yes</td>\n",
              "      <td>7.0</td>\n",
              "      <td>30.0</td>\n",
              "      <td>Female</td>\n",
              "      <td>Parent</td>\n",
              "      <td>Divorced/Seperated</td>\n",
              "      <td>Secondary education</td>\n",
              "      <td>Self employed</td>\n",
              "    </tr>\n",
              "    <tr>\n",
              "      <th>23523</th>\n",
              "      <td>Uganda</td>\n",
              "      <td>2018</td>\n",
              "      <td>uniqueid_2117</td>\n",
              "      <td>No</td>\n",
              "      <td>Rural</td>\n",
              "      <td>Yes</td>\n",
              "      <td>10.0</td>\n",
              "      <td>20.0</td>\n",
              "      <td>Male</td>\n",
              "      <td>Child</td>\n",
              "      <td>Single/Never Married</td>\n",
              "      <td>Secondary education</td>\n",
              "      <td>No Income</td>\n",
              "    </tr>\n",
              "  </tbody>\n",
              "</table>\n",
              "</div>"
            ],
            "text/plain": [
              "      country  year  ...  Level of Educuation    Type of Job\n",
              "23519  Uganda  2018  ...  No formal education   Other Income\n",
              "23520  Uganda  2018  ...  Secondary education   Other Income\n",
              "23521  Uganda  2018  ...    Primary education   Other Income\n",
              "23522  Uganda  2018  ...  Secondary education  Self employed\n",
              "23523  Uganda  2018  ...  Secondary education      No Income\n",
              "\n",
              "[5 rows x 13 columns]"
            ]
          },
          "metadata": {
            "tags": []
          },
          "execution_count": 4
        }
      ]
    },
    {
      "cell_type": "code",
      "metadata": {
        "id": "YjSVNwgptHxY",
        "colab": {
          "base_uri": "https://localhost:8080/"
        },
        "outputId": "1a5181a1-0b52-4207-d347-d7c1b9583ad3"
      },
      "source": [
        "# Determining the no. of records in our dataset\n",
        "\n",
        "Finance.shape\n"
      ],
      "execution_count": 5,
      "outputs": [
        {
          "output_type": "execute_result",
          "data": {
            "text/plain": [
              "(23524, 13)"
            ]
          },
          "metadata": {
            "tags": []
          },
          "execution_count": 5
        }
      ]
    },
    {
      "cell_type": "code",
      "metadata": {
        "id": "n8-dW4sQWzbc",
        "colab": {
          "base_uri": "https://localhost:8080/"
        },
        "outputId": "84272f56-4cec-4cf0-8c4f-0d4edb5ce783"
      },
      "source": [
        "# Checking whether each column has an appropriate datatype\n",
        "\n",
        "Finance.dtypes\n"
      ],
      "execution_count": 6,
      "outputs": [
        {
          "output_type": "execute_result",
          "data": {
            "text/plain": [
              "country                    object\n",
              "year                        int64\n",
              "uniqueid                   object\n",
              "Has a Bank account         object\n",
              "Type of Location           object\n",
              "Cell Phone Access          object\n",
              "household_size            float64\n",
              "Respondent Age            float64\n",
              "gender_of_respondent       object\n",
              "The relathip with head     object\n",
              "marital_status             object\n",
              "Level of Educuation        object\n",
              "Type of Job                object\n",
              "dtype: object"
            ]
          },
          "metadata": {
            "tags": []
          },
          "execution_count": 6
        }
      ]
    },
    {
      "cell_type": "code",
      "metadata": {
        "colab": {
          "base_uri": "https://localhost:8080/"
        },
        "id": "YzoSlrlXIkr1",
        "outputId": "c339602f-1f37-4a04-e131-4d16701c18d7"
      },
      "source": [
        "# Finding out number of possible missing values\r\n",
        "\r\n",
        "Finance.info()"
      ],
      "execution_count": 7,
      "outputs": [
        {
          "output_type": "stream",
          "text": [
            "<class 'pandas.core.frame.DataFrame'>\n",
            "RangeIndex: 23524 entries, 0 to 23523\n",
            "Data columns (total 13 columns):\n",
            " #   Column                  Non-Null Count  Dtype  \n",
            "---  ------                  --------------  -----  \n",
            " 0   country                 23510 non-null  object \n",
            " 1   year                    23524 non-null  int64  \n",
            " 2   uniqueid                23524 non-null  object \n",
            " 3   Has a Bank account      23488 non-null  object \n",
            " 4   Type of Location        23509 non-null  object \n",
            " 5   Cell Phone Access       23513 non-null  object \n",
            " 6   household_size          23496 non-null  float64\n",
            " 7   Respondent Age          23490 non-null  float64\n",
            " 8   gender_of_respondent    23490 non-null  object \n",
            " 9   The relathip with head  23520 non-null  object \n",
            " 10  marital_status          23492 non-null  object \n",
            " 11  Level of Educuation     23495 non-null  object \n",
            " 12  Type of Job             23494 non-null  object \n",
            "dtypes: float64(2), int64(1), object(10)\n",
            "memory usage: 2.3+ MB\n"
          ],
          "name": "stdout"
        }
      ]
    },
    {
      "cell_type": "code",
      "metadata": {
        "colab": {
          "base_uri": "https://localhost:8080/"
        },
        "id": "37BRjsZ3jkZN",
        "outputId": "3771ce54-015b-4d49-a264-c3278a0e8374"
      },
      "source": [
        "# Checking the unique values in each column\r\n",
        "\r\n",
        "Finance.nunique()"
      ],
      "execution_count": 7,
      "outputs": [
        {
          "output_type": "execute_result",
          "data": {
            "text/plain": [
              "COUNTRY                      4\n",
              "YEAR                         6\n",
              "UNIQUEID                  8735\n",
              "HAS_A_BANK_ACCOUNT           2\n",
              "TYPE_OF_LOCATION             2\n",
              "CELL_PHONE_ACCESS            2\n",
              "HOUSEHOLD_SIZE              21\n",
              "RESPONDENT_AGE              85\n",
              "GENDER_OF_RESPONDENT         2\n",
              "THE_RELATHIP_WITH_HEAD       6\n",
              "MARITAL_STATUS               5\n",
              "LEVEL_OF_EDUCUATION          7\n",
              "TYPE_OF_JOB                 10\n",
              "dtype: int64"
            ]
          },
          "metadata": {
            "tags": []
          },
          "execution_count": 7
        }
      ]
    },
    {
      "cell_type": "markdown",
      "metadata": {
        "id": "ckfufNrcUHeH"
      },
      "source": [
        "## 4. External Data Source Validation"
      ]
    },
    {
      "cell_type": "markdown",
      "metadata": {
        "id": "6XC_g-zKxe-r"
      },
      "source": [
        "### a.Validation"
      ]
    },
    {
      "cell_type": "markdown",
      "metadata": {
        "id": "Wok7Ai1QhN1q"
      },
      "source": [
        " The data provided is valid according to several reports done by FinScope which is a body that does national financial surveys. \r\n",
        "\r\n",
        " Examples of such surveys done:\r\n",
        " * [Uganda 2018 Survey](http://fsduganda.or.ug/finscope-2018-survey-report/)\r\n",
        " * [Rwanda 2016 Survey](http://www.statistics.gov.rw/publication/finscope-rwanda-2016)\r\n",
        " * [Tanzania 2017 Survey](http://www.fsdt.or.tz/finscope/)"
      ]
    },
    {
      "cell_type": "markdown",
      "metadata": {
        "id": "FlBMxEDBUc9B"
      },
      "source": [
        "## 5. Tidying the Dataset"
      ]
    },
    {
      "cell_type": "code",
      "metadata": {
        "id": "bnI85k8yKpDX"
      },
      "source": [
        "# Standardizing the column names\r\n",
        "\r\n",
        "Finance.columns = Finance.columns.str.strip().str.upper().str.replace(' ', '_')"
      ],
      "execution_count": 215,
      "outputs": []
    },
    {
      "cell_type": "code",
      "metadata": {
        "id": "T-sBAa83BZyw"
      },
      "source": [
        "Finance.drop(['THE_RELATHIP_WITH_HEAD', 'LEVEL_OF_EDUCUATION', 'TYPE_OF_JOB', 'MARITAL_STATUS'], axis=1, inplace= True)"
      ],
      "execution_count": 216,
      "outputs": []
    },
    {
      "cell_type": "code",
      "metadata": {
        "colab": {
          "base_uri": "https://localhost:8080/"
        },
        "id": "v4flS-DIB7sz",
        "outputId": "f0c10337-2390-4bf5-a0a9-14463a8f8045"
      },
      "source": [
        "Finance.dtypes"
      ],
      "execution_count": 117,
      "outputs": [
        {
          "output_type": "execute_result",
          "data": {
            "text/plain": [
              "COUNTRY                  object\n",
              "YEAR                      int64\n",
              "UNIQUEID                 object\n",
              "HAS_A_BANK_ACCOUNT       object\n",
              "TYPE_OF_LOCATION         object\n",
              "CELL_PHONE_ACCESS        object\n",
              "HOUSEHOLD_SIZE          float64\n",
              "RESPONDENT_AGE          float64\n",
              "GENDER_OF_RESPONDENT     object\n",
              "dtype: object"
            ]
          },
          "metadata": {
            "tags": []
          },
          "execution_count": 117
        }
      ]
    },
    {
      "cell_type": "code",
      "metadata": {
        "id": "4UFBYiovK4u_",
        "colab": {
          "base_uri": "https://localhost:8080/"
        },
        "outputId": "238286f9-84da-4eb2-c785-b59223c6f5c4"
      },
      "source": [
        "# Identifying the Missing Data\n",
        "#\n",
        "\n",
        "Finance.isnull().values.any()"
      ],
      "execution_count": 140,
      "outputs": [
        {
          "output_type": "execute_result",
          "data": {
            "text/plain": [
              "True"
            ]
          },
          "metadata": {
            "tags": []
          },
          "execution_count": 140
        }
      ]
    },
    {
      "cell_type": "code",
      "metadata": {
        "colab": {
          "base_uri": "https://localhost:8080/"
        },
        "id": "GUFXOEwxjaeC",
        "outputId": "05cae0ab-25d0-4766-9e85-ccb3b5b65bbc"
      },
      "source": [
        "Finance.isnull().sum()"
      ],
      "execution_count": 141,
      "outputs": [
        {
          "output_type": "execute_result",
          "data": {
            "text/plain": [
              "COUNTRY                 14\n",
              "YEAR                     0\n",
              "UNIQUEID                 0\n",
              "HAS_A_BANK_ACCOUNT      36\n",
              "TYPE_OF_LOCATION        15\n",
              "CELL_PHONE_ACCESS       11\n",
              "HOUSEHOLD_SIZE          28\n",
              "RESPONDENT_AGE          34\n",
              "GENDER_OF_RESPONDENT    34\n",
              "dtype: int64"
            ]
          },
          "metadata": {
            "tags": []
          },
          "execution_count": 141
        }
      ]
    },
    {
      "cell_type": "code",
      "metadata": {
        "colab": {
          "base_uri": "https://localhost:8080/",
          "height": 503
        },
        "id": "c4pvTj8pnHdU",
        "outputId": "280545c0-0aa7-4086-af61-7823d42fbb2e"
      },
      "source": [
        "# Checking null values appearing in the column country\r\n",
        "series = pd.isnull(Finance[\"COUNTRY\"]) \r\n",
        "Finance[series]"
      ],
      "execution_count": 142,
      "outputs": [
        {
          "output_type": "execute_result",
          "data": {
            "text/html": [
              "<div>\n",
              "<style scoped>\n",
              "    .dataframe tbody tr th:only-of-type {\n",
              "        vertical-align: middle;\n",
              "    }\n",
              "\n",
              "    .dataframe tbody tr th {\n",
              "        vertical-align: top;\n",
              "    }\n",
              "\n",
              "    .dataframe thead th {\n",
              "        text-align: right;\n",
              "    }\n",
              "</style>\n",
              "<table border=\"1\" class=\"dataframe\">\n",
              "  <thead>\n",
              "    <tr style=\"text-align: right;\">\n",
              "      <th></th>\n",
              "      <th>COUNTRY</th>\n",
              "      <th>YEAR</th>\n",
              "      <th>UNIQUEID</th>\n",
              "      <th>HAS_A_BANK_ACCOUNT</th>\n",
              "      <th>TYPE_OF_LOCATION</th>\n",
              "      <th>CELL_PHONE_ACCESS</th>\n",
              "      <th>HOUSEHOLD_SIZE</th>\n",
              "      <th>RESPONDENT_AGE</th>\n",
              "      <th>GENDER_OF_RESPONDENT</th>\n",
              "    </tr>\n",
              "  </thead>\n",
              "  <tbody>\n",
              "    <tr>\n",
              "      <th>18200</th>\n",
              "      <td>NaN</td>\n",
              "      <td>2017</td>\n",
              "      <td>uniqueid_3398</td>\n",
              "      <td>No</td>\n",
              "      <td>Urban</td>\n",
              "      <td>Yes</td>\n",
              "      <td>1.0</td>\n",
              "      <td>25.0</td>\n",
              "      <td>Female</td>\n",
              "    </tr>\n",
              "    <tr>\n",
              "      <th>18201</th>\n",
              "      <td>NaN</td>\n",
              "      <td>2017</td>\n",
              "      <td>uniqueid_3399</td>\n",
              "      <td>No</td>\n",
              "      <td>Urban</td>\n",
              "      <td>No</td>\n",
              "      <td>1.0</td>\n",
              "      <td>60.0</td>\n",
              "      <td>Female</td>\n",
              "    </tr>\n",
              "    <tr>\n",
              "      <th>18202</th>\n",
              "      <td>NaN</td>\n",
              "      <td>2017</td>\n",
              "      <td>uniqueid_3400</td>\n",
              "      <td>No</td>\n",
              "      <td>Urban</td>\n",
              "      <td>Yes</td>\n",
              "      <td>1.0</td>\n",
              "      <td>19.0</td>\n",
              "      <td>Female</td>\n",
              "    </tr>\n",
              "    <tr>\n",
              "      <th>18203</th>\n",
              "      <td>NaN</td>\n",
              "      <td>2017</td>\n",
              "      <td>uniqueid_3401</td>\n",
              "      <td>No</td>\n",
              "      <td>Urban</td>\n",
              "      <td>No</td>\n",
              "      <td>1.0</td>\n",
              "      <td>62.0</td>\n",
              "      <td>Female</td>\n",
              "    </tr>\n",
              "    <tr>\n",
              "      <th>18204</th>\n",
              "      <td>NaN</td>\n",
              "      <td>2017</td>\n",
              "      <td>uniqueid_3402</td>\n",
              "      <td>No</td>\n",
              "      <td>Urban</td>\n",
              "      <td>No</td>\n",
              "      <td>2.0</td>\n",
              "      <td>42.0</td>\n",
              "      <td>Female</td>\n",
              "    </tr>\n",
              "    <tr>\n",
              "      <th>18205</th>\n",
              "      <td>NaN</td>\n",
              "      <td>2017</td>\n",
              "      <td>uniqueid_3403</td>\n",
              "      <td>No</td>\n",
              "      <td>Rural</td>\n",
              "      <td>No</td>\n",
              "      <td>3.0</td>\n",
              "      <td>18.0</td>\n",
              "      <td>Male</td>\n",
              "    </tr>\n",
              "    <tr>\n",
              "      <th>18206</th>\n",
              "      <td>NaN</td>\n",
              "      <td>2017</td>\n",
              "      <td>uniqueid_3404</td>\n",
              "      <td>No</td>\n",
              "      <td>Urban</td>\n",
              "      <td>Yes</td>\n",
              "      <td>2.0</td>\n",
              "      <td>73.0</td>\n",
              "      <td>Female</td>\n",
              "    </tr>\n",
              "    <tr>\n",
              "      <th>18207</th>\n",
              "      <td>NaN</td>\n",
              "      <td>2017</td>\n",
              "      <td>uniqueid_3405</td>\n",
              "      <td>No</td>\n",
              "      <td>Urban</td>\n",
              "      <td>No</td>\n",
              "      <td>1.0</td>\n",
              "      <td>40.0</td>\n",
              "      <td>Male</td>\n",
              "    </tr>\n",
              "    <tr>\n",
              "      <th>18208</th>\n",
              "      <td>NaN</td>\n",
              "      <td>2017</td>\n",
              "      <td>uniqueid_3406</td>\n",
              "      <td>No</td>\n",
              "      <td>Urban</td>\n",
              "      <td>No</td>\n",
              "      <td>3.0</td>\n",
              "      <td>28.0</td>\n",
              "      <td>Male</td>\n",
              "    </tr>\n",
              "    <tr>\n",
              "      <th>18312</th>\n",
              "      <td>NaN</td>\n",
              "      <td>2017</td>\n",
              "      <td>uniqueid_3510</td>\n",
              "      <td>No</td>\n",
              "      <td>Urban</td>\n",
              "      <td>No</td>\n",
              "      <td>2.0</td>\n",
              "      <td>19.0</td>\n",
              "      <td>Male</td>\n",
              "    </tr>\n",
              "    <tr>\n",
              "      <th>18313</th>\n",
              "      <td>NaN</td>\n",
              "      <td>2017</td>\n",
              "      <td>uniqueid_3511</td>\n",
              "      <td>No</td>\n",
              "      <td>Urban</td>\n",
              "      <td>Yes</td>\n",
              "      <td>2.0</td>\n",
              "      <td>20.0</td>\n",
              "      <td>Female</td>\n",
              "    </tr>\n",
              "    <tr>\n",
              "      <th>18314</th>\n",
              "      <td>NaN</td>\n",
              "      <td>2017</td>\n",
              "      <td>uniqueid_3512</td>\n",
              "      <td>No</td>\n",
              "      <td>Urban</td>\n",
              "      <td>No</td>\n",
              "      <td>3.0</td>\n",
              "      <td>22.0</td>\n",
              "      <td>Female</td>\n",
              "    </tr>\n",
              "    <tr>\n",
              "      <th>18315</th>\n",
              "      <td>NaN</td>\n",
              "      <td>2017</td>\n",
              "      <td>uniqueid_3513</td>\n",
              "      <td>No</td>\n",
              "      <td>Rural</td>\n",
              "      <td>Yes</td>\n",
              "      <td>3.0</td>\n",
              "      <td>44.0</td>\n",
              "      <td>Female</td>\n",
              "    </tr>\n",
              "    <tr>\n",
              "      <th>18316</th>\n",
              "      <td>NaN</td>\n",
              "      <td>2017</td>\n",
              "      <td>uniqueid_3514</td>\n",
              "      <td>No</td>\n",
              "      <td>Rural</td>\n",
              "      <td>Yes</td>\n",
              "      <td>2.0</td>\n",
              "      <td>67.0</td>\n",
              "      <td>Female</td>\n",
              "    </tr>\n",
              "  </tbody>\n",
              "</table>\n",
              "</div>"
            ],
            "text/plain": [
              "      COUNTRY  YEAR  ... RESPONDENT_AGE GENDER_OF_RESPONDENT\n",
              "18200     NaN  2017  ...           25.0               Female\n",
              "18201     NaN  2017  ...           60.0               Female\n",
              "18202     NaN  2017  ...           19.0               Female\n",
              "18203     NaN  2017  ...           62.0               Female\n",
              "18204     NaN  2017  ...           42.0               Female\n",
              "18205     NaN  2017  ...           18.0                 Male\n",
              "18206     NaN  2017  ...           73.0               Female\n",
              "18207     NaN  2017  ...           40.0                 Male\n",
              "18208     NaN  2017  ...           28.0                 Male\n",
              "18312     NaN  2017  ...           19.0                 Male\n",
              "18313     NaN  2017  ...           20.0               Female\n",
              "18314     NaN  2017  ...           22.0               Female\n",
              "18315     NaN  2017  ...           44.0               Female\n",
              "18316     NaN  2017  ...           67.0               Female\n",
              "\n",
              "[14 rows x 9 columns]"
            ]
          },
          "metadata": {
            "tags": []
          },
          "execution_count": 142
        }
      ]
    },
    {
      "cell_type": "code",
      "metadata": {
        "colab": {
          "base_uri": "https://localhost:8080/",
          "height": 162
        },
        "id": "iBWXHlHYnlPI",
        "outputId": "46bd4b91-5ebc-4b8c-f5d1-42c51c5147cc"
      },
      "source": [
        "# Sampling the unique ids having null values. How many times do they appear \r\n",
        "# in the data set?\r\n",
        "\r\n",
        "one= Finance['UNIQUEID'] == 'uniqueid_3402'\r\n",
        "two= Finance['UNIQUEID'] == 'uniqueid_3513'\r\n",
        "three = Finance['UNIQUEID'] == 'uniqueid_3398'\r\n",
        "\r\n",
        "Finance[three]\r\n"
      ],
      "execution_count": 143,
      "outputs": [
        {
          "output_type": "execute_result",
          "data": {
            "text/html": [
              "<div>\n",
              "<style scoped>\n",
              "    .dataframe tbody tr th:only-of-type {\n",
              "        vertical-align: middle;\n",
              "    }\n",
              "\n",
              "    .dataframe tbody tr th {\n",
              "        vertical-align: top;\n",
              "    }\n",
              "\n",
              "    .dataframe thead th {\n",
              "        text-align: right;\n",
              "    }\n",
              "</style>\n",
              "<table border=\"1\" class=\"dataframe\">\n",
              "  <thead>\n",
              "    <tr style=\"text-align: right;\">\n",
              "      <th></th>\n",
              "      <th>COUNTRY</th>\n",
              "      <th>YEAR</th>\n",
              "      <th>UNIQUEID</th>\n",
              "      <th>HAS_A_BANK_ACCOUNT</th>\n",
              "      <th>TYPE_OF_LOCATION</th>\n",
              "      <th>CELL_PHONE_ACCESS</th>\n",
              "      <th>HOUSEHOLD_SIZE</th>\n",
              "      <th>RESPONDENT_AGE</th>\n",
              "      <th>GENDER_OF_RESPONDENT</th>\n",
              "    </tr>\n",
              "  </thead>\n",
              "  <tbody>\n",
              "    <tr>\n",
              "      <th>3397</th>\n",
              "      <td>Kenya</td>\n",
              "      <td>2018</td>\n",
              "      <td>uniqueid_3398</td>\n",
              "      <td>No</td>\n",
              "      <td>Rural</td>\n",
              "      <td>Yes</td>\n",
              "      <td>4.0</td>\n",
              "      <td>54.0</td>\n",
              "      <td>Female</td>\n",
              "    </tr>\n",
              "    <tr>\n",
              "      <th>9465</th>\n",
              "      <td>Rwanda</td>\n",
              "      <td>2016</td>\n",
              "      <td>uniqueid_3398</td>\n",
              "      <td>No</td>\n",
              "      <td>Rural</td>\n",
              "      <td>Yes</td>\n",
              "      <td>5.0</td>\n",
              "      <td>43.0</td>\n",
              "      <td>Female</td>\n",
              "    </tr>\n",
              "    <tr>\n",
              "      <th>18200</th>\n",
              "      <td>NaN</td>\n",
              "      <td>2017</td>\n",
              "      <td>uniqueid_3398</td>\n",
              "      <td>No</td>\n",
              "      <td>Urban</td>\n",
              "      <td>Yes</td>\n",
              "      <td>1.0</td>\n",
              "      <td>25.0</td>\n",
              "      <td>Female</td>\n",
              "    </tr>\n",
              "  </tbody>\n",
              "</table>\n",
              "</div>"
            ],
            "text/plain": [
              "      COUNTRY  YEAR  ... RESPONDENT_AGE GENDER_OF_RESPONDENT\n",
              "3397    Kenya  2018  ...           54.0               Female\n",
              "9465   Rwanda  2016  ...           43.0               Female\n",
              "18200     NaN  2017  ...           25.0               Female\n",
              "\n",
              "[3 rows x 9 columns]"
            ]
          },
          "metadata": {
            "tags": []
          },
          "execution_count": 143
        }
      ]
    },
    {
      "cell_type": "markdown",
      "metadata": {
        "id": "CeqZ1FCwoxcf"
      },
      "source": [
        "Observation: The unique ids tested appear three times in a dataset each representing a different country. "
      ]
    },
    {
      "cell_type": "code",
      "metadata": {
        "id": "HOdS0WVyK6ND"
      },
      "source": [
        "# Dealing with the Missing Data\n",
        "#\n",
        "\n",
        "# Dropping null values in Country column.\n",
        "# Number of null values in Country column account for 0.06% of the dataset\n",
        "# Dropping won't affect the data\n",
        "\n",
        "Finance['COUNTRY'].dropna(inplace= True)\n",
        "\n"
      ],
      "execution_count": 217,
      "outputs": []
    },
    {
      "cell_type": "code",
      "metadata": {
        "colab": {
          "base_uri": "https://localhost:8080/"
        },
        "id": "I0G6MBHjqSVO",
        "outputId": "bfc0fd99-a3f4-4ae7-b63d-905ea16efbe4"
      },
      "source": [
        "Finance.isnull().sum().sum()"
      ],
      "execution_count": 145,
      "outputs": [
        {
          "output_type": "execute_result",
          "data": {
            "text/plain": [
              "172"
            ]
          },
          "metadata": {
            "tags": []
          },
          "execution_count": 145
        }
      ]
    },
    {
      "cell_type": "code",
      "metadata": {
        "id": "DCi3VhJdqfNd"
      },
      "source": [
        "# Value of null values is also small hence the dropping\r\n",
        "\r\n",
        "Finance.dropna(inplace= True)"
      ],
      "execution_count": 218,
      "outputs": []
    },
    {
      "cell_type": "code",
      "metadata": {
        "colab": {
          "base_uri": "https://localhost:8080/"
        },
        "id": "8GUnHpnBE2sp",
        "outputId": "bcc43810-c672-4555-f4cc-7728b511b0d7"
      },
      "source": [
        "# Dealing with null values\r\n",
        "\r\n",
        "Q1 = Finance.quantile(0.25)\r\n",
        "Q3 = Finance.quantile(0.75)\r\n",
        "IQR = Q3 - Q1\r\n",
        "\r\n",
        "# Removing outliers based on the IQR range and stores the result in the data frame 'df_out'\r\n",
        "# ---\r\n",
        "# \r\n",
        "finance = Finance[~((Finance < (Q1 - 1.5 * IQR)) | (Finance > (Q3 + 1.5 * IQR))).any(axis=1)]\r\n",
        "\r\n",
        "# Printing the shape of our new dataset\r\n",
        "# ---\r\n",
        "# \r\n",
        "print(finance.shape)\r\n",
        "\r\n",
        "# Printing the shape of our old dataset\r\n",
        "# ---\r\n",
        "#\r\n",
        "print(Finance.shape)"
      ],
      "execution_count": 219,
      "outputs": [
        {
          "output_type": "stream",
          "text": [
            "(22769, 9)\n",
            "(23388, 9)\n"
          ],
          "name": "stdout"
        }
      ]
    },
    {
      "cell_type": "code",
      "metadata": {
        "id": "BdnIi_LhK78S",
        "colab": {
          "base_uri": "https://localhost:8080/"
        },
        "outputId": "0ebe13d4-64bd-485a-f523-490a0f4f9b85"
      },
      "source": [
        "# More data cleaning procedures\n",
        "#\n",
        "\n",
        "# Getting duplicates\n",
        "Finance.duplicated().values.any()"
      ],
      "execution_count": 25,
      "outputs": [
        {
          "output_type": "execute_result",
          "data": {
            "text/plain": [
              "False"
            ]
          },
          "metadata": {
            "tags": []
          },
          "execution_count": 25
        }
      ]
    },
    {
      "cell_type": "markdown",
      "metadata": {
        "id": "rF2ABPsHUtbZ"
      },
      "source": [
        "## 6. Exploratory Analysis"
      ]
    },
    {
      "cell_type": "markdown",
      "metadata": {
        "id": "-8n83J7chV2c"
      },
      "source": [
        "### Univariate Analysis"
      ]
    },
    {
      "cell_type": "code",
      "metadata": {
        "colab": {
          "base_uri": "https://localhost:8080/",
          "height": 297
        },
        "id": "N3mpEfQQkH8N",
        "outputId": "cd92c2ff-754d-44c7-b098-1af975c939d2"
      },
      "source": [
        "# Description of the data\r\n",
        "\r\n",
        "Finance.describe()"
      ],
      "execution_count": 12,
      "outputs": [
        {
          "output_type": "execute_result",
          "data": {
            "text/html": [
              "<div>\n",
              "<style scoped>\n",
              "    .dataframe tbody tr th:only-of-type {\n",
              "        vertical-align: middle;\n",
              "    }\n",
              "\n",
              "    .dataframe tbody tr th {\n",
              "        vertical-align: top;\n",
              "    }\n",
              "\n",
              "    .dataframe thead th {\n",
              "        text-align: right;\n",
              "    }\n",
              "</style>\n",
              "<table border=\"1\" class=\"dataframe\">\n",
              "  <thead>\n",
              "    <tr style=\"text-align: right;\">\n",
              "      <th></th>\n",
              "      <th>YEAR</th>\n",
              "      <th>HOUSEHOLD_SIZE</th>\n",
              "      <th>RESPONDENT_AGE</th>\n",
              "    </tr>\n",
              "  </thead>\n",
              "  <tbody>\n",
              "    <tr>\n",
              "      <th>count</th>\n",
              "      <td>23524.000000</td>\n",
              "      <td>23496.000000</td>\n",
              "      <td>23490.000000</td>\n",
              "    </tr>\n",
              "    <tr>\n",
              "      <th>mean</th>\n",
              "      <td>2016.979000</td>\n",
              "      <td>3.681818</td>\n",
              "      <td>38.804300</td>\n",
              "    </tr>\n",
              "    <tr>\n",
              "      <th>std</th>\n",
              "      <td>0.899669</td>\n",
              "      <td>2.279933</td>\n",
              "      <td>16.519996</td>\n",
              "    </tr>\n",
              "    <tr>\n",
              "      <th>min</th>\n",
              "      <td>2016.000000</td>\n",
              "      <td>0.000000</td>\n",
              "      <td>16.000000</td>\n",
              "    </tr>\n",
              "    <tr>\n",
              "      <th>25%</th>\n",
              "      <td>2016.000000</td>\n",
              "      <td>2.000000</td>\n",
              "      <td>26.000000</td>\n",
              "    </tr>\n",
              "    <tr>\n",
              "      <th>50%</th>\n",
              "      <td>2017.000000</td>\n",
              "      <td>3.000000</td>\n",
              "      <td>35.000000</td>\n",
              "    </tr>\n",
              "    <tr>\n",
              "      <th>75%</th>\n",
              "      <td>2018.000000</td>\n",
              "      <td>5.000000</td>\n",
              "      <td>49.000000</td>\n",
              "    </tr>\n",
              "    <tr>\n",
              "      <th>max</th>\n",
              "      <td>2056.000000</td>\n",
              "      <td>21.000000</td>\n",
              "      <td>100.000000</td>\n",
              "    </tr>\n",
              "  </tbody>\n",
              "</table>\n",
              "</div>"
            ],
            "text/plain": [
              "               YEAR  HOUSEHOLD_SIZE  RESPONDENT_AGE\n",
              "count  23524.000000    23496.000000    23490.000000\n",
              "mean    2016.979000        3.681818       38.804300\n",
              "std        0.899669        2.279933       16.519996\n",
              "min     2016.000000        0.000000       16.000000\n",
              "25%     2016.000000        2.000000       26.000000\n",
              "50%     2017.000000        3.000000       35.000000\n",
              "75%     2018.000000        5.000000       49.000000\n",
              "max     2056.000000       21.000000      100.000000"
            ]
          },
          "metadata": {
            "tags": []
          },
          "execution_count": 12
        }
      ]
    },
    {
      "cell_type": "markdown",
      "metadata": {
        "id": "rUNpTYGllWdp"
      },
      "source": [
        "From the description we can conclude that the columns year, Household size and Respodent age have outliers most of them being between Q3 and the maximum value"
      ]
    },
    {
      "cell_type": "code",
      "metadata": {
        "colab": {
          "base_uri": "https://localhost:8080/",
          "height": 427
        },
        "id": "DlwYa5vWmKtT",
        "outputId": "df8222c9-5db6-4947-ce62-8336ab5f8f03"
      },
      "source": [
        "Finance.describe(include='all')"
      ],
      "execution_count": 13,
      "outputs": [
        {
          "output_type": "execute_result",
          "data": {
            "text/html": [
              "<div>\n",
              "<style scoped>\n",
              "    .dataframe tbody tr th:only-of-type {\n",
              "        vertical-align: middle;\n",
              "    }\n",
              "\n",
              "    .dataframe tbody tr th {\n",
              "        vertical-align: top;\n",
              "    }\n",
              "\n",
              "    .dataframe thead th {\n",
              "        text-align: right;\n",
              "    }\n",
              "</style>\n",
              "<table border=\"1\" class=\"dataframe\">\n",
              "  <thead>\n",
              "    <tr style=\"text-align: right;\">\n",
              "      <th></th>\n",
              "      <th>COUNTRY</th>\n",
              "      <th>YEAR</th>\n",
              "      <th>UNIQUEID</th>\n",
              "      <th>HAS_A_BANK_ACCOUNT</th>\n",
              "      <th>TYPE_OF_LOCATION</th>\n",
              "      <th>CELL_PHONE_ACCESS</th>\n",
              "      <th>HOUSEHOLD_SIZE</th>\n",
              "      <th>RESPONDENT_AGE</th>\n",
              "      <th>GENDER_OF_RESPONDENT</th>\n",
              "      <th>THE_RELATHIP_WITH_HEAD</th>\n",
              "      <th>MARITAL_STATUS</th>\n",
              "      <th>LEVEL_OF_EDUCUATION</th>\n",
              "      <th>TYPE_OF_JOB</th>\n",
              "    </tr>\n",
              "  </thead>\n",
              "  <tbody>\n",
              "    <tr>\n",
              "      <th>count</th>\n",
              "      <td>23510</td>\n",
              "      <td>23524.000000</td>\n",
              "      <td>23524</td>\n",
              "      <td>23488</td>\n",
              "      <td>23509</td>\n",
              "      <td>23513</td>\n",
              "      <td>23496.000000</td>\n",
              "      <td>23490.000000</td>\n",
              "      <td>23490</td>\n",
              "      <td>23520</td>\n",
              "      <td>23492</td>\n",
              "      <td>23495</td>\n",
              "      <td>23494</td>\n",
              "    </tr>\n",
              "    <tr>\n",
              "      <th>unique</th>\n",
              "      <td>4</td>\n",
              "      <td>NaN</td>\n",
              "      <td>8735</td>\n",
              "      <td>2</td>\n",
              "      <td>2</td>\n",
              "      <td>2</td>\n",
              "      <td>NaN</td>\n",
              "      <td>NaN</td>\n",
              "      <td>2</td>\n",
              "      <td>6</td>\n",
              "      <td>5</td>\n",
              "      <td>7</td>\n",
              "      <td>10</td>\n",
              "    </tr>\n",
              "    <tr>\n",
              "      <th>top</th>\n",
              "      <td>Rwanda</td>\n",
              "      <td>NaN</td>\n",
              "      <td>uniqueid_971</td>\n",
              "      <td>No</td>\n",
              "      <td>Rural</td>\n",
              "      <td>Yes</td>\n",
              "      <td>NaN</td>\n",
              "      <td>NaN</td>\n",
              "      <td>Female</td>\n",
              "      <td>Head of Household</td>\n",
              "      <td>Married/Living together</td>\n",
              "      <td>Primary education</td>\n",
              "      <td>Self employed</td>\n",
              "    </tr>\n",
              "    <tr>\n",
              "      <th>freq</th>\n",
              "      <td>8735</td>\n",
              "      <td>NaN</td>\n",
              "      <td>4</td>\n",
              "      <td>20179</td>\n",
              "      <td>14338</td>\n",
              "      <td>17449</td>\n",
              "      <td>NaN</td>\n",
              "      <td>NaN</td>\n",
              "      <td>13859</td>\n",
              "      <td>12829</td>\n",
              "      <td>10739</td>\n",
              "      <td>12775</td>\n",
              "      <td>6428</td>\n",
              "    </tr>\n",
              "    <tr>\n",
              "      <th>mean</th>\n",
              "      <td>NaN</td>\n",
              "      <td>2016.979000</td>\n",
              "      <td>NaN</td>\n",
              "      <td>NaN</td>\n",
              "      <td>NaN</td>\n",
              "      <td>NaN</td>\n",
              "      <td>3.681818</td>\n",
              "      <td>38.804300</td>\n",
              "      <td>NaN</td>\n",
              "      <td>NaN</td>\n",
              "      <td>NaN</td>\n",
              "      <td>NaN</td>\n",
              "      <td>NaN</td>\n",
              "    </tr>\n",
              "    <tr>\n",
              "      <th>std</th>\n",
              "      <td>NaN</td>\n",
              "      <td>0.899669</td>\n",
              "      <td>NaN</td>\n",
              "      <td>NaN</td>\n",
              "      <td>NaN</td>\n",
              "      <td>NaN</td>\n",
              "      <td>2.279933</td>\n",
              "      <td>16.519996</td>\n",
              "      <td>NaN</td>\n",
              "      <td>NaN</td>\n",
              "      <td>NaN</td>\n",
              "      <td>NaN</td>\n",
              "      <td>NaN</td>\n",
              "    </tr>\n",
              "    <tr>\n",
              "      <th>min</th>\n",
              "      <td>NaN</td>\n",
              "      <td>2016.000000</td>\n",
              "      <td>NaN</td>\n",
              "      <td>NaN</td>\n",
              "      <td>NaN</td>\n",
              "      <td>NaN</td>\n",
              "      <td>0.000000</td>\n",
              "      <td>16.000000</td>\n",
              "      <td>NaN</td>\n",
              "      <td>NaN</td>\n",
              "      <td>NaN</td>\n",
              "      <td>NaN</td>\n",
              "      <td>NaN</td>\n",
              "    </tr>\n",
              "    <tr>\n",
              "      <th>25%</th>\n",
              "      <td>NaN</td>\n",
              "      <td>2016.000000</td>\n",
              "      <td>NaN</td>\n",
              "      <td>NaN</td>\n",
              "      <td>NaN</td>\n",
              "      <td>NaN</td>\n",
              "      <td>2.000000</td>\n",
              "      <td>26.000000</td>\n",
              "      <td>NaN</td>\n",
              "      <td>NaN</td>\n",
              "      <td>NaN</td>\n",
              "      <td>NaN</td>\n",
              "      <td>NaN</td>\n",
              "    </tr>\n",
              "    <tr>\n",
              "      <th>50%</th>\n",
              "      <td>NaN</td>\n",
              "      <td>2017.000000</td>\n",
              "      <td>NaN</td>\n",
              "      <td>NaN</td>\n",
              "      <td>NaN</td>\n",
              "      <td>NaN</td>\n",
              "      <td>3.000000</td>\n",
              "      <td>35.000000</td>\n",
              "      <td>NaN</td>\n",
              "      <td>NaN</td>\n",
              "      <td>NaN</td>\n",
              "      <td>NaN</td>\n",
              "      <td>NaN</td>\n",
              "    </tr>\n",
              "    <tr>\n",
              "      <th>75%</th>\n",
              "      <td>NaN</td>\n",
              "      <td>2018.000000</td>\n",
              "      <td>NaN</td>\n",
              "      <td>NaN</td>\n",
              "      <td>NaN</td>\n",
              "      <td>NaN</td>\n",
              "      <td>5.000000</td>\n",
              "      <td>49.000000</td>\n",
              "      <td>NaN</td>\n",
              "      <td>NaN</td>\n",
              "      <td>NaN</td>\n",
              "      <td>NaN</td>\n",
              "      <td>NaN</td>\n",
              "    </tr>\n",
              "    <tr>\n",
              "      <th>max</th>\n",
              "      <td>NaN</td>\n",
              "      <td>2056.000000</td>\n",
              "      <td>NaN</td>\n",
              "      <td>NaN</td>\n",
              "      <td>NaN</td>\n",
              "      <td>NaN</td>\n",
              "      <td>21.000000</td>\n",
              "      <td>100.000000</td>\n",
              "      <td>NaN</td>\n",
              "      <td>NaN</td>\n",
              "      <td>NaN</td>\n",
              "      <td>NaN</td>\n",
              "      <td>NaN</td>\n",
              "    </tr>\n",
              "  </tbody>\n",
              "</table>\n",
              "</div>"
            ],
            "text/plain": [
              "       COUNTRY          YEAR  ... LEVEL_OF_EDUCUATION    TYPE_OF_JOB\n",
              "count    23510  23524.000000  ...               23495          23494\n",
              "unique       4           NaN  ...                   7             10\n",
              "top     Rwanda           NaN  ...   Primary education  Self employed\n",
              "freq      8735           NaN  ...               12775           6428\n",
              "mean       NaN   2016.979000  ...                 NaN            NaN\n",
              "std        NaN      0.899669  ...                 NaN            NaN\n",
              "min        NaN   2016.000000  ...                 NaN            NaN\n",
              "25%        NaN   2016.000000  ...                 NaN            NaN\n",
              "50%        NaN   2017.000000  ...                 NaN            NaN\n",
              "75%        NaN   2018.000000  ...                 NaN            NaN\n",
              "max        NaN   2056.000000  ...                 NaN            NaN\n",
              "\n",
              "[11 rows x 13 columns]"
            ]
          },
          "metadata": {
            "tags": []
          },
          "execution_count": 13
        }
      ]
    },
    {
      "cell_type": "code",
      "metadata": {
        "colab": {
          "base_uri": "https://localhost:8080/"
        },
        "id": "ARBlmRO5sCOh",
        "outputId": "9043e20b-3bab-4869-9baa-e18e1dfba33a"
      },
      "source": [
        "Finance.columns"
      ],
      "execution_count": 26,
      "outputs": [
        {
          "output_type": "execute_result",
          "data": {
            "text/plain": [
              "Index(['COUNTRY', 'YEAR', 'UNIQUEID', 'HAS_A_BANK_ACCOUNT', 'TYPE_OF_LOCATION',\n",
              "       'CELL_PHONE_ACCESS', 'HOUSEHOLD_SIZE', 'RESPONDENT_AGE',\n",
              "       'GENDER_OF_RESPONDENT', 'THE_RELATHIP_WITH_HEAD', 'MARITAL_STATUS',\n",
              "       'LEVEL_OF_EDUCUATION', 'TYPE_OF_JOB'],\n",
              "      dtype='object')"
            ]
          },
          "metadata": {
            "tags": []
          },
          "execution_count": 26
        }
      ]
    },
    {
      "cell_type": "code",
      "metadata": {
        "colab": {
          "base_uri": "https://localhost:8080/"
        },
        "id": "YCH9U-EKjt0O",
        "outputId": "4158ef6c-bc5f-48dd-ec52-8d53250e9eba"
      },
      "source": [
        "Finance['RESPONDENT_AGE'].mode()"
      ],
      "execution_count": 85,
      "outputs": [
        {
          "output_type": "execute_result",
          "data": {
            "text/plain": [
              "0    30.0\n",
              "dtype: float64"
            ]
          },
          "metadata": {
            "tags": []
          },
          "execution_count": 85
        }
      ]
    },
    {
      "cell_type": "markdown",
      "metadata": {
        "id": "IRBWz9bvjz2c"
      },
      "source": [
        "Most people are 30 years old."
      ]
    },
    {
      "cell_type": "code",
      "metadata": {
        "colab": {
          "base_uri": "https://localhost:8080/",
          "height": 1000
        },
        "id": "xUqYE439rrfE",
        "outputId": "d4d9de6f-5204-4b95-fbe9-4642b776b187"
      },
      "source": [
        "# Box plots to see the outliers\r\n",
        "\r\n",
        "col_names = ['YEAR','HOUSEHOLD_SIZE', 'RESPONDENT_AGE']\r\n",
        "\r\n",
        "fig, ax = plt.subplots(len(col_names), figsize=(8,40))\r\n",
        "\r\n",
        "for i, col_val in enumerate(col_names):\r\n",
        "        \r\n",
        "    sns.boxplot(y=Finance[col_val], ax=ax[i])\r\n",
        "    ax[i].set_title('Box plot - '+col_val, fontsize=10)\r\n",
        "    ax[i].set_xlabel(col_val, fontsize=8)\r\n",
        "    \r\n",
        "plt.show()"
      ],
      "execution_count": 36,
      "outputs": [
        {
          "output_type": "display_data",
          "data": {
            "image/png": "[encoded data removed]",
            "text/plain": [
              "<Figure size 576x2880 with 3 Axes>"
            ]
          },
          "metadata": {
            "tags": [],
            "needs_background": "light"
          }
        }
      ]
    },
    {
      "cell_type": "code",
      "metadata": {
        "colab": {
          "base_uri": "https://localhost:8080/",
          "height": 1000
        },
        "id": "9WI1rGLvuC2S",
        "outputId": "49e23bc5-48d1-460a-ea19-f530934fe872"
      },
      "source": [
        "# Percentile based outlier removal \r\n",
        "def percentile_based_outlier(data, threshold=95):\r\n",
        "    diff = (100 - threshold) / 2.0\r\n",
        "    minval, maxval = np.percentile(data, [diff, 100 - diff])\r\n",
        "    return (data < minval) | (data > maxval)\r\n",
        "\r\n",
        "col_names = ['YEAR','HOUSEHOLD_SIZE', 'RESPONDENT_AGE']\r\n",
        "\r\n",
        "fig, ax = plt.subplots(len(col_names), figsize=(8,40))\r\n",
        "\r\n",
        "for i, col_val in enumerate(col_names):\r\n",
        "    x = Finance[col_val][:1000]\r\n",
        "    sns.distplot(x, ax=ax[i], rug=True, hist=False)\r\n",
        "    outliers = x[percentile_based_outlier(x)]\r\n",
        "    ax[i].plot(outliers, np.zeros_like(outliers), 'ro', clip_on=False)\r\n",
        "\r\n",
        "    ax[i].set_title('Outlier detection - '+col_val, fontsize=10)\r\n",
        "    ax[i].set_xlabel(col_val, fontsize=8)\r\n",
        "    \r\n",
        "plt.show()"
      ],
      "execution_count": 39,
      "outputs": [
        {
          "output_type": "stream",
          "text": [
            "/usr/local/lib/python3.7/dist-packages/seaborn/distributions.py:2557: FutureWarning: `distplot` is a deprecated function and will be removed in a future version. Please adapt your code to use either `displot` (a figure-level function with similar flexibility) or `kdeplot` (an axes-level function for kernel density plots).\n",
            "  warnings.warn(msg, FutureWarning)\n",
            "/usr/local/lib/python3.7/dist-packages/seaborn/distributions.py:2056: FutureWarning: The `axis` variable is no longer used and will be removed. Instead, assign variables directly to `x` or `y`.\n",
            "  warnings.warn(msg, FutureWarning)\n",
            "/usr/local/lib/python3.7/dist-packages/seaborn/distributions.py:2557: FutureWarning: `distplot` is a deprecated function and will be removed in a future version. Please adapt your code to use either `displot` (a figure-level function with similar flexibility) or `kdeplot` (an axes-level function for kernel density plots).\n",
            "  warnings.warn(msg, FutureWarning)\n",
            "/usr/local/lib/python3.7/dist-packages/seaborn/distributions.py:2056: FutureWarning: The `axis` variable is no longer used and will be removed. Instead, assign variables directly to `x` or `y`.\n",
            "  warnings.warn(msg, FutureWarning)\n",
            "/usr/local/lib/python3.7/dist-packages/seaborn/distributions.py:2557: FutureWarning: `distplot` is a deprecated function and will be removed in a future version. Please adapt your code to use either `displot` (a figure-level function with similar flexibility) or `kdeplot` (an axes-level function for kernel density plots).\n",
            "  warnings.warn(msg, FutureWarning)\n",
            "/usr/local/lib/python3.7/dist-packages/seaborn/distributions.py:2056: FutureWarning: The `axis` variable is no longer used and will be removed. Instead, assign variables directly to `x` or `y`.\n",
            "  warnings.warn(msg, FutureWarning)\n"
          ],
          "name": "stderr"
        },
        {
          "output_type": "display_data",
          "data": {
            "image/png": "[encoded data removed]",
            "text/plain": [
              "<Figure size 576x2880 with 3 Axes>"
            ]
          },
          "metadata": {
            "tags": [],
            "needs_background": "light"
          }
        }
      ]
    },
    {
      "cell_type": "code",
      "metadata": {
        "colab": {
          "base_uri": "https://localhost:8080/",
          "height": 316
        },
        "id": "nvbtBDlgzcna",
        "outputId": "d1d9977d-2e4f-4eb5-deef-e03e99a2b3b4"
      },
      "source": [
        "# Frequency Distribution by Country\r\n",
        "\r\n",
        "Finance['COUNTRY'].value_counts().plot.bar()"
      ],
      "execution_count": 47,
      "outputs": [
        {
          "output_type": "execute_result",
          "data": {
            "text/plain": [
              "<matplotlib.axes._subplots.AxesSubplot at 0x7f0b637f8890>"
            ]
          },
          "metadata": {
            "tags": []
          },
          "execution_count": 47
        },
        {
          "output_type": "display_data",
          "data": {
            "image/png": "[encoded data removed]",
            "text/plain": [
              "<Figure size 432x288 with 1 Axes>"
            ]
          },
          "metadata": {
            "tags": [],
            "needs_background": "light"
          }
        }
      ]
    },
    {
      "cell_type": "markdown",
      "metadata": {
        "id": "e7j_IV4R2CrT"
      },
      "source": [
        "Data from Rwanda is more than that of Tanzania and Kenya. Uganda has the least amount of data."
      ]
    },
    {
      "cell_type": "code",
      "metadata": {
        "id": "EPqh60U8zzu4"
      },
      "source": [
        "# Defining conditions\r\n",
        "\r\n",
        "cellaccess= Finance['CELL_PHONE_ACCESS'] == 'Yes'\r\n",
        "hasbankacc= Finance['HAS_A_BANK_ACCOUNT'] == 'Yes'"
      ],
      "execution_count": 76,
      "outputs": []
    },
    {
      "cell_type": "code",
      "metadata": {
        "colab": {
          "base_uri": "https://localhost:8080/",
          "height": 316
        },
        "id": "YXiNu6eX0eMH",
        "outputId": "3dd620dd-0be0-4c2e-ec2a-aa8c06ee3d62"
      },
      "source": [
        "# Frequency Distribution by Country\r\n",
        "# Those having cell access\r\n",
        "\r\n",
        "Finance[cellaccess]['COUNTRY'].value_counts().plot.bar()"
      ],
      "execution_count": 51,
      "outputs": [
        {
          "output_type": "execute_result",
          "data": {
            "text/plain": [
              "<matplotlib.axes._subplots.AxesSubplot at 0x7f0b4ad592d0>"
            ]
          },
          "metadata": {
            "tags": []
          },
          "execution_count": 51
        },
        {
          "output_type": "display_data",
          "data": {
            "image/png": "[encoded data removed]",
            "text/plain": [
              "<Figure size 432x288 with 1 Axes>"
            ]
          },
          "metadata": {
            "tags": [],
            "needs_background": "light"
          }
        }
      ]
    },
    {
      "cell_type": "markdown",
      "metadata": {
        "id": "ITTOIs4l2STA"
      },
      "source": [
        "Rwanda has the most residents having cell phone access. This could either be due to the fact that data from Rwanda is more or they could be having better network connections. Uganda still tails. More Kenyans have cell access as compared to the Tanzanians."
      ]
    },
    {
      "cell_type": "code",
      "metadata": {
        "colab": {
          "base_uri": "https://localhost:8080/",
          "height": 316
        },
        "id": "WHd9CUrF12dQ",
        "outputId": "f0419f37-812f-4985-8c8e-a39b0fb59f2a"
      },
      "source": [
        "# Frequency Distribution by Country\r\n",
        "# Those having bank accounts\r\n",
        "\r\n",
        "Finance[hasbankacc]['COUNTRY'].value_counts().plot.bar()"
      ],
      "execution_count": 52,
      "outputs": [
        {
          "output_type": "execute_result",
          "data": {
            "text/plain": [
              "<matplotlib.axes._subplots.AxesSubplot at 0x7f0b633d11d0>"
            ]
          },
          "metadata": {
            "tags": []
          },
          "execution_count": 52
        },
        {
          "output_type": "display_data",
          "data": {
            "image/png": "[encoded data removed]",
            "text/plain": [
              "<Figure size 432x288 with 1 Axes>"
            ]
          },
          "metadata": {
            "tags": [],
            "needs_background": "light"
          }
        }
      ]
    },
    {
      "cell_type": "markdown",
      "metadata": {
        "id": "-d2HmtcH279O"
      },
      "source": [
        "As compared to cellphone access, more people from Kenya have bank accounts as compared to those in other countries. There is also a big difference between each country in terms of having bank accounts."
      ]
    },
    {
      "cell_type": "code",
      "metadata": {
        "colab": {
          "base_uri": "https://localhost:8080/",
          "height": 295
        },
        "id": "VhM04kvivGX6",
        "outputId": "affa2744-7bff-41fd-9df6-d6ba07b1f3a0"
      },
      "source": [
        "# Finding the frequency distribution of the ages in the dataset\r\n",
        "\r\n",
        "age = Finance['RESPONDENT_AGE']\r\n",
        "plt.hist(age, bins=10, histtype='bar', rwidth=0.9)\r\n",
        "\r\n",
        "plt.xlabel('Ages')\r\n",
        "plt.ylabel('Frequency')\r\n",
        "plt.title('Histogram of the ages  of the distribution') \r\n",
        "plt.show()"
      ],
      "execution_count": 42,
      "outputs": [
        {
          "output_type": "display_data",
          "data": {
            "image/png": "[encoded data removed]",
            "text/plain": [
              "<Figure size 432x288 with 1 Axes>"
            ]
          },
          "metadata": {
            "tags": [],
            "needs_background": "light"
          }
        }
      ]
    },
    {
      "cell_type": "markdown",
      "metadata": {
        "id": "advGvvsBx1UJ"
      },
      "source": [
        "Most of the people are middle-aged. Between 16 and 49."
      ]
    },
    {
      "cell_type": "code",
      "metadata": {
        "colab": {
          "base_uri": "https://localhost:8080/",
          "height": 281
        },
        "id": "6x9WBvowgK7X",
        "outputId": "a4ae511f-7f32-4e35-b3fb-e7ae888bdcce"
      },
      "source": [
        "# Number of people having access to bank accounts\r\n",
        "\r\n",
        "Finance['TYPE_OF_LOCATION'].value_counts().plot(kind='pie', autopct='%.2f')\r\n",
        "\r\n",
        "plt.title('Pie Chart of Overall Population Distribution')\r\n"
      ],
      "execution_count": 79,
      "outputs": [
        {
          "output_type": "execute_result",
          "data": {
            "text/plain": [
              "Text(0.5, 1.0, 'Pie Chart of Overall Population Distribution')"
            ]
          },
          "metadata": {
            "tags": []
          },
          "execution_count": 79
        },
        {
          "output_type": "display_data",
          "data": {
            "image/png": "[encoded data removed]",
            "text/plain": [
              "<Figure size 432x288 with 1 Axes>"
            ]
          },
          "metadata": {
            "tags": []
          }
        }
      ]
    },
    {
      "cell_type": "markdown",
      "metadata": {
        "id": "8X7nTmxUgX67"
      },
      "source": [
        "61% of the population lives in the rural areas."
      ]
    },
    {
      "cell_type": "code",
      "metadata": {
        "id": "1DGF0Xu946Pu"
      },
      "source": [
        "ke= Finance['COUNTRY'] == 'Kenya'\r\n",
        "rwan = Finance['COUNTRY'] == 'Rwanda'\r\n",
        "tz = Finance['COUNTRY'] == 'Tanzania'\r\n",
        "ug = Finance['COUNTRY'] == 'Uganda'"
      ],
      "execution_count": 54,
      "outputs": []
    },
    {
      "cell_type": "code",
      "metadata": {
        "colab": {
          "base_uri": "https://localhost:8080/",
          "height": 281
        },
        "id": "HwumlNhNd_sm",
        "outputId": "b8949c7f-c9b9-42b9-fc44-7dce338330f9"
      },
      "source": [
        "# Number of people having access to bank accounts\r\n",
        "\r\n",
        "Finance['HAS_A_BANK_ACCOUNT'].value_counts().plot(kind='pie', autopct='%.2f')\r\n",
        "\r\n",
        "plt.title('Pie Chart of Overall Bank/Acc Distribution')\r\n"
      ],
      "execution_count": 73,
      "outputs": [
        {
          "output_type": "execute_result",
          "data": {
            "text/plain": [
              "Text(0.5, 1.0, 'Pie Chart of Overall Bank/Acc Distribution')"
            ]
          },
          "metadata": {
            "tags": []
          },
          "execution_count": 73
        },
        {
          "output_type": "display_data",
          "data": {
            "image/png": "[encoded data removed]",
            "text/plain": [
              "<Figure size 432x288 with 1 Axes>"
            ]
          },
          "metadata": {
            "tags": []
          }
        }
      ]
    },
    {
      "cell_type": "code",
      "metadata": {
        "colab": {
          "base_uri": "https://localhost:8080/",
          "height": 281
        },
        "id": "1IuNK4Jf4oz9",
        "outputId": "4a2e6eee-6af0-414d-da0f-993658e1389e"
      },
      "source": [
        "# Proportion of people having bank accounts in Kenya.\r\n",
        "Finance[ke]['HAS_A_BANK_ACCOUNT'].value_counts().plot(kind='pie', autopct='%.2f')\r\n",
        "\r\n",
        "plt.title('Pie Chart of Kenyans Bank/Acc Distribution')"
      ],
      "execution_count": 59,
      "outputs": [
        {
          "output_type": "execute_result",
          "data": {
            "text/plain": [
              "Text(0.5, 1.0, 'Pie Chart of Kenyans Bank/Acc Distribution')"
            ]
          },
          "metadata": {
            "tags": []
          },
          "execution_count": 59
        },
        {
          "output_type": "display_data",
          "data": {
            "image/png": "[encoded data removed]",
            "text/plain": [
              "<Figure size 432x288 with 1 Axes>"
            ]
          },
          "metadata": {
            "tags": []
          }
        }
      ]
    },
    {
      "cell_type": "markdown",
      "metadata": {
        "id": "SkxSiata667E"
      },
      "source": [
        "Even though Kenya had most people having bank accounts in comparison to the three countries, most of them did not have bank accounts within the country."
      ]
    },
    {
      "cell_type": "code",
      "metadata": {
        "colab": {
          "base_uri": "https://localhost:8080/",
          "height": 281
        },
        "id": "OCTODdtl5kyi",
        "outputId": "3184517d-d49f-4378-9dce-1743b90508e4"
      },
      "source": [
        "# Proportion of people having bank accounts in Tanzania.\r\n",
        "Finance[tz]['HAS_A_BANK_ACCOUNT'].value_counts().plot(kind='pie', autopct='%.2f')\r\n",
        "\r\n",
        "plt.title('Pie Chart of Tanzanians Bank/Acc Distribution')"
      ],
      "execution_count": 60,
      "outputs": [
        {
          "output_type": "execute_result",
          "data": {
            "text/plain": [
              "Text(0.5, 1.0, 'Pie Chart of Tanzanians Bank/Acc Distribution')"
            ]
          },
          "metadata": {
            "tags": []
          },
          "execution_count": 60
        },
        {
          "output_type": "display_data",
          "data": {
            "image/png": "[encoded data removed]",
            "text/plain": [
              "<Figure size 432x288 with 1 Axes>"
            ]
          },
          "metadata": {
            "tags": []
          }
        }
      ]
    },
    {
      "cell_type": "code",
      "metadata": {
        "colab": {
          "base_uri": "https://localhost:8080/",
          "height": 281
        },
        "id": "8zThmAOp5oy_",
        "outputId": "b504205e-2236-4795-ea84-4b95c6943c4e"
      },
      "source": [
        "# Proportion of people having bank accounts in Uganda.\r\n",
        "\r\n",
        "Finance[ug]['HAS_A_BANK_ACCOUNT'].value_counts().plot(kind='pie', autopct='%.2f')\r\n",
        "\r\n",
        "plt.title('Pie Chart of Ugandans Bank/Acc Distribution')"
      ],
      "execution_count": 61,
      "outputs": [
        {
          "output_type": "execute_result",
          "data": {
            "text/plain": [
              "Text(0.5, 1.0, 'Pie Chart of Ugandans Bank/Acc Distribution')"
            ]
          },
          "metadata": {
            "tags": []
          },
          "execution_count": 61
        },
        {
          "output_type": "display_data",
          "data": {
            "image/png": "[encoded data removed]",
            "text/plain": [
              "<Figure size 432x288 with 1 Axes>"
            ]
          },
          "metadata": {
            "tags": []
          }
        }
      ]
    },
    {
      "cell_type": "code",
      "metadata": {
        "colab": {
          "base_uri": "https://localhost:8080/",
          "height": 281
        },
        "id": "FumvaE305r_W",
        "outputId": "624b2e42-f850-4b6d-ee4b-8b7ff3410bb8"
      },
      "source": [
        "# Proportion of people having bank accounts in Rwanda.\r\n",
        "\r\n",
        "Finance[rwan]['HAS_A_BANK_ACCOUNT'].value_counts().plot(kind='pie', autopct='%.2f')\r\n",
        "\r\n",
        "plt.title('Pie Chart of Rwandans Bank/Acc Distribution')"
      ],
      "execution_count": 62,
      "outputs": [
        {
          "output_type": "execute_result",
          "data": {
            "text/plain": [
              "Text(0.5, 1.0, 'Pie Chart of Rwandans Bank/Acc Distribution')"
            ]
          },
          "metadata": {
            "tags": []
          },
          "execution_count": 62
        },
        {
          "output_type": "display_data",
          "data": {
            "image/png": "[encoded data removed]",
            "text/plain": [
              "<Figure size 432x288 with 1 Axes>"
            ]
          },
          "metadata": {
            "tags": []
          }
        }
      ]
    },
    {
      "cell_type": "markdown",
      "metadata": {
        "id": "aEwNr3ZicvZn"
      },
      "source": [
        "**Conclusions from the Univariate Analysis**\r\n",
        "\r\n",
        "Rwanda and Kenya are the top countries having cell phone access as well as having people with bank accounts. Despite Kenya leading in terms of having the most number of people with bank accounts, it only accounts for a fourth of the population. \r\n",
        "\r\n",
        "Uganda tails both in having cell phone access as well as the number of people having bank accounts. This could be due to Uganda having the least amount of data. \r\n",
        "\r\n",
        "Generally 14% of East Africans have bank accounts."
      ]
    },
    {
      "cell_type": "markdown",
      "metadata": {
        "id": "bhEhMHC1hdCx"
      },
      "source": [
        "### Bivariate Analysis"
      ]
    },
    {
      "cell_type": "code",
      "metadata": {
        "colab": {
          "base_uri": "https://localhost:8080/",
          "height": 550
        },
        "id": "jkrzlRdSh4Cv",
        "outputId": "af73d861-fbc6-49db-f49f-2b5671391d22"
      },
      "source": [
        "# Bivariate summaries \r\n",
        "\r\n",
        "sns.pairplot(Finance)\r\n",
        "plt.show()"
      ],
      "execution_count": 82,
      "outputs": [
        {
          "output_type": "display_data",
          "data": {
            "image/png": "[encoded data removed]",
            "text/plain": [
              "<Figure size 540x540 with 12 Axes>"
            ]
          },
          "metadata": {
            "tags": [],
            "needs_background": "light"
          }
        }
      ]
    },
    {
      "cell_type": "code",
      "metadata": {
        "colab": {
          "base_uri": "https://localhost:8080/",
          "height": 353
        },
        "id": "yDjMVbDHjSu0",
        "outputId": "212b8007-1016-45c1-f334-d4711f09280a"
      },
      "source": [
        "sns.heatmap(Finance.corr(),annot=True)\r\n",
        "plt.show()"
      ],
      "execution_count": 84,
      "outputs": [
        {
          "output_type": "display_data",
          "data": {
            "image/png": "[encoded data removed]",
            "text/plain": [
              "<Figure size 432x288 with 2 Axes>"
            ]
          },
          "metadata": {
            "tags": [],
            "needs_background": "light"
          }
        }
      ]
    },
    {
      "cell_type": "markdown",
      "metadata": {
        "id": "BJHryDQfjaVM"
      },
      "source": [
        "There seems to be a weak correlation between variables in the dataset."
      ]
    },
    {
      "cell_type": "code",
      "metadata": {
        "colab": {
          "base_uri": "https://localhost:8080/"
        },
        "id": "IvxkSagXojVw",
        "outputId": "537fb8da-2aa5-4432-8197-23ec7e0cbcec"
      },
      "source": [
        "Finance.columns"
      ],
      "execution_count": 88,
      "outputs": [
        {
          "output_type": "execute_result",
          "data": {
            "text/plain": [
              "Index(['COUNTRY', 'YEAR', 'UNIQUEID', 'HAS_A_BANK_ACCOUNT', 'TYPE_OF_LOCATION',\n",
              "       'CELL_PHONE_ACCESS', 'HOUSEHOLD_SIZE', 'RESPONDENT_AGE',\n",
              "       'GENDER_OF_RESPONDENT', 'THE_RELATHIP_WITH_HEAD', 'MARITAL_STATUS',\n",
              "       'LEVEL_OF_EDUCUATION', 'TYPE_OF_JOB'],\n",
              "      dtype='object')"
            ]
          },
          "metadata": {
            "tags": []
          },
          "execution_count": 88
        }
      ]
    },
    {
      "cell_type": "code",
      "metadata": {
        "colab": {
          "base_uri": "https://localhost:8080/",
          "height": 142
        },
        "id": "HWsMxcjSqY32",
        "outputId": "f3a80eb2-8df1-407d-df97-622d8913620a"
      },
      "source": [
        "# Constructing a chi square\r\n",
        "\r\n",
        "from scipy.stats import chi2_contingency\r\n",
        "\r\n",
        "contigency = pd.crosstab(finance['HAS_A_BANK_ACCOUNT'], finance['TYPE_OF_LOCATION'], )\r\n",
        "contigency"
      ],
      "execution_count": 196,
      "outputs": [
        {
          "output_type": "execute_result",
          "data": {
            "text/html": [
              "<div>\n",
              "<style scoped>\n",
              "    .dataframe tbody tr th:only-of-type {\n",
              "        vertical-align: middle;\n",
              "    }\n",
              "\n",
              "    .dataframe tbody tr th {\n",
              "        vertical-align: top;\n",
              "    }\n",
              "\n",
              "    .dataframe thead th {\n",
              "        text-align: right;\n",
              "    }\n",
              "</style>\n",
              "<table border=\"1\" class=\"dataframe\">\n",
              "  <thead>\n",
              "    <tr style=\"text-align: right;\">\n",
              "      <th>TYPE_OF_LOCATION</th>\n",
              "      <th>Rural</th>\n",
              "      <th>Urban</th>\n",
              "    </tr>\n",
              "    <tr>\n",
              "      <th>HAS_A_BANK_ACCOUNT</th>\n",
              "      <th></th>\n",
              "      <th></th>\n",
              "    </tr>\n",
              "  </thead>\n",
              "  <tbody>\n",
              "    <tr>\n",
              "      <th>No</th>\n",
              "      <td>12218</td>\n",
              "      <td>7313</td>\n",
              "    </tr>\n",
              "    <tr>\n",
              "      <th>Yes</th>\n",
              "      <td>1616</td>\n",
              "      <td>1622</td>\n",
              "    </tr>\n",
              "  </tbody>\n",
              "</table>\n",
              "</div>"
            ],
            "text/plain": [
              "TYPE_OF_LOCATION    Rural  Urban\n",
              "HAS_A_BANK_ACCOUNT              \n",
              "No                  12218   7313\n",
              "Yes                  1616   1622"
            ]
          },
          "metadata": {
            "tags": []
          },
          "execution_count": 196
        }
      ]
    },
    {
      "cell_type": "code",
      "metadata": {
        "colab": {
          "base_uri": "https://localhost:8080/",
          "height": 515
        },
        "id": "iFu6xEho36DY",
        "outputId": "f3999379-2908-4606-8477-949416e177df"
      },
      "source": [
        "plt.figure(figsize=(12,8)) \r\n",
        "sns.heatmap(contigency, annot=True, cmap=\"YlGnBu\")"
      ],
      "execution_count": 198,
      "outputs": [
        {
          "output_type": "execute_result",
          "data": {
            "text/plain": [
              "<matplotlib.axes._subplots.AxesSubplot at 0x7f0b20fad910>"
            ]
          },
          "metadata": {
            "tags": []
          },
          "execution_count": 198
        },
        {
          "output_type": "display_data",
          "data": {
            "image/png": "[encoded data removed]",
            "text/plain": [
              "<Figure size 864x576 with 2 Axes>"
            ]
          },
          "metadata": {
            "tags": [],
            "needs_background": "light"
          }
        }
      ]
    },
    {
      "cell_type": "code",
      "metadata": {
        "colab": {
          "base_uri": "https://localhost:8080/"
        },
        "id": "bHlJzz-OxzVq",
        "outputId": "e3aa8194-5912-4b71-9fec-cb7a98d3f392"
      },
      "source": [
        "# Chi-square test of independence. \r\n",
        "c, p, dof, expected = chi2_contingency(contigency) # Print the p-value\r\n",
        "print(p)"
      ],
      "execution_count": 197,
      "outputs": [
        {
          "output_type": "stream",
          "text": [
            "2.528394335470285e-42\n"
          ],
          "name": "stdout"
        }
      ]
    },
    {
      "cell_type": "code",
      "metadata": {
        "colab": {
          "base_uri": "https://localhost:8080/",
          "height": 142
        },
        "id": "477TW0eMwbTf",
        "outputId": "2d03e0c8-573c-4ba6-9d96-fea511bec12f"
      },
      "source": [
        "contigency_p = pd.crosstab(finance['CELL_PHONE_ACCESS'], finance['HAS_A_BANK_ACCOUNT'])\r\n",
        "contigency_p"
      ],
      "execution_count": 200,
      "outputs": [
        {
          "output_type": "execute_result",
          "data": {
            "text/html": [
              "<div>\n",
              "<style scoped>\n",
              "    .dataframe tbody tr th:only-of-type {\n",
              "        vertical-align: middle;\n",
              "    }\n",
              "\n",
              "    .dataframe tbody tr th {\n",
              "        vertical-align: top;\n",
              "    }\n",
              "\n",
              "    .dataframe thead th {\n",
              "        text-align: right;\n",
              "    }\n",
              "</style>\n",
              "<table border=\"1\" class=\"dataframe\">\n",
              "  <thead>\n",
              "    <tr style=\"text-align: right;\">\n",
              "      <th>HAS_A_BANK_ACCOUNT</th>\n",
              "      <th>No</th>\n",
              "      <th>Yes</th>\n",
              "    </tr>\n",
              "    <tr>\n",
              "      <th>CELL_PHONE_ACCESS</th>\n",
              "      <th></th>\n",
              "      <th></th>\n",
              "    </tr>\n",
              "  </thead>\n",
              "  <tbody>\n",
              "    <tr>\n",
              "      <th>No</th>\n",
              "      <td>5655</td>\n",
              "      <td>93</td>\n",
              "    </tr>\n",
              "    <tr>\n",
              "      <th>Yes</th>\n",
              "      <td>13876</td>\n",
              "      <td>3145</td>\n",
              "    </tr>\n",
              "  </tbody>\n",
              "</table>\n",
              "</div>"
            ],
            "text/plain": [
              "HAS_A_BANK_ACCOUNT     No   Yes\n",
              "CELL_PHONE_ACCESS              \n",
              "No                   5655    93\n",
              "Yes                 13876  3145"
            ]
          },
          "metadata": {
            "tags": []
          },
          "execution_count": 200
        }
      ]
    },
    {
      "cell_type": "code",
      "metadata": {
        "colab": {
          "base_uri": "https://localhost:8080/"
        },
        "id": "X-36ZH_E21P3",
        "outputId": "2cbb0d2d-8b74-4122-ed90-e98107b8dab5"
      },
      "source": [
        "# Chi-square test of independence. \r\n",
        "c, p, dof, expected = chi2_contingency(contigency_p) # Print the p-value\r\n",
        "print(p)"
      ],
      "execution_count": 201,
      "outputs": [
        {
          "output_type": "stream",
          "text": [
            "1.9697687062235946e-219\n"
          ],
          "name": "stdout"
        }
      ]
    },
    {
      "cell_type": "markdown",
      "metadata": {
        "id": "Fv5E-fTRbaKy"
      },
      "source": [
        "The p-values gotten are out of range. "
      ]
    },
    {
      "cell_type": "markdown",
      "metadata": {
        "id": "FEetR-Ishi2A"
      },
      "source": [
        "### Multivariate Analysis"
      ]
    },
    {
      "cell_type": "code",
      "metadata": {
        "colab": {
          "base_uri": "https://localhost:8080/"
        },
        "id": "u5SOY2yh-2Cf",
        "outputId": "143cf13b-9d9b-46e0-d426-633d297ff722"
      },
      "source": [
        "pip install factor_analyzer==0.2.3"
      ],
      "execution_count": 112,
      "outputs": [
        {
          "output_type": "stream",
          "text": [
            "Collecting factor_analyzer==0.2.3\n",
            "  Downloading https://files.pythonhosted.org/packages/79/1b/84808bbeee0f3a8753c3d8034baf0aa0013cf08957eff750f366ce83f04a/factor_analyzer-0.2.3-py2.py3-none-any.whl\n",
            "Requirement already satisfied: numpy in /usr/local/lib/python3.7/dist-packages (from factor_analyzer==0.2.3) (1.19.5)\n",
            "Requirement already satisfied: pandas in /usr/local/lib/python3.7/dist-packages (from factor_analyzer==0.2.3) (1.1.5)\n",
            "Requirement already satisfied: scipy in /usr/local/lib/python3.7/dist-packages (from factor_analyzer==0.2.3) (1.4.1)\n",
            "Requirement already satisfied: pytz>=2017.2 in /usr/local/lib/python3.7/dist-packages (from pandas->factor_analyzer==0.2.3) (2018.9)\n",
            "Requirement already satisfied: python-dateutil>=2.7.3 in /usr/local/lib/python3.7/dist-packages (from pandas->factor_analyzer==0.2.3) (2.8.1)\n",
            "Requirement already satisfied: six>=1.5 in /usr/local/lib/python3.7/dist-packages (from python-dateutil>=2.7.3->pandas->factor_analyzer==0.2.3) (1.15.0)\n",
            "Installing collected packages: factor-analyzer\n",
            "Successfully installed factor-analyzer-0.2.3\n"
          ],
          "name": "stdout"
        }
      ]
    },
    {
      "cell_type": "code",
      "metadata": {
        "colab": {
          "base_uri": "https://localhost:8080/"
        },
        "id": "8A2pf-kk-jIP",
        "outputId": "694bb1f5-09b4-44e6-b068-677640d52085"
      },
      "source": [
        "# Bartlett's test\r\n",
        "\r\n",
        "from factor_analyzer.factor_analyzer import calculate_bartlett_sphericity\r\n",
        "\r\n",
        "chi_square_value,p_value=calculate_bartlett_sphericity(Finance)\r\n",
        "chi_square_value, p_value"
      ],
      "execution_count": 171,
      "outputs": [
        {
          "output_type": "execute_result",
          "data": {
            "text/plain": [
              "(410.5827501332822, 2.0012072980862913e-65)"
            ]
          },
          "metadata": {
            "tags": []
          },
          "execution_count": 171
        }
      ]
    },
    {
      "cell_type": "markdown",
      "metadata": {
        "id": "6rFRbdbj_nWD"
      },
      "source": [
        "Indicates that a factor analysis is not suitable for this dataset."
      ]
    },
    {
      "cell_type": "code",
      "metadata": {
        "colab": {
          "base_uri": "https://localhost:8080/"
        },
        "id": "soz2ErUd_kFG",
        "outputId": "04178c7e-8174-4333-b0f1-96e1e1a8c64c"
      },
      "source": [
        "Finance.columns"
      ],
      "execution_count": 118,
      "outputs": [
        {
          "output_type": "execute_result",
          "data": {
            "text/plain": [
              "Index(['COUNTRY', 'YEAR', 'UNIQUEID', 'HAS_A_BANK_ACCOUNT', 'TYPE_OF_LOCATION',\n",
              "       'CELL_PHONE_ACCESS', 'HOUSEHOLD_SIZE', 'RESPONDENT_AGE',\n",
              "       'GENDER_OF_RESPONDENT'],\n",
              "      dtype='object')"
            ]
          },
          "metadata": {
            "tags": []
          },
          "execution_count": 118
        }
      ]
    },
    {
      "cell_type": "code",
      "metadata": {
        "id": "OR-Z_t5QCYo1"
      },
      "source": [
        "# Preprocessing\r\n",
        "\r\n",
        "X = finance[['YEAR', 'RESPONDENT_AGE']]\r\n",
        "y = finance[['UNIQUEID', 'HAS_A_BANK_ACCOUNT']]"
      ],
      "execution_count": 220,
      "outputs": []
    },
    {
      "cell_type": "code",
      "metadata": {
        "id": "hp3vkQQUDd5B"
      },
      "source": [
        "# Separation\r\n",
        "\r\n",
        "from sklearn.model_selection import train_test_split\r\n",
        "\r\n",
        "X_train, X_test, y_train, y_test = train_test_split(X, y, test_size=0.2, random_state=0)"
      ],
      "execution_count": 221,
      "outputs": []
    },
    {
      "cell_type": "code",
      "metadata": {
        "id": "iqDIYObBDhzQ"
      },
      "source": [
        "# Normalization\r\n",
        "\r\n",
        "from sklearn.preprocessing import StandardScaler\r\n",
        "\r\n",
        "sc = StandardScaler()\r\n",
        "X_train = sc.fit_transform(X_train)\r\n",
        "X_test = sc.transform(X_test)"
      ],
      "execution_count": 222,
      "outputs": []
    },
    {
      "cell_type": "code",
      "metadata": {
        "id": "m9NH15YMDsBK"
      },
      "source": [
        "# Applying PCA\r\n",
        "\r\n",
        "from sklearn.decomposition import PCA\r\n",
        "\r\n",
        "pca = PCA()\r\n",
        "X_train = pca.fit_transform(X_train)\r\n",
        "X_test = pca.transform(X_test)"
      ],
      "execution_count": 223,
      "outputs": []
    },
    {
      "cell_type": "code",
      "metadata": {
        "id": "Q9KoACd1MOx4"
      },
      "source": [
        "# Explained Variance Ratio\r\n",
        "\r\n",
        "explained_variance = pca.explained_variance_ratio_"
      ],
      "execution_count": 224,
      "outputs": []
    },
    {
      "cell_type": "code",
      "metadata": {
        "id": "mLVVSoAaMVpk"
      },
      "source": [
        "# Using one PC\r\n",
        "\r\n",
        "from sklearn.decomposition import PCA\r\n",
        "\r\n",
        "pca = PCA(n_components=1)\r\n",
        "X_train = pca.fit_transform(X_train)\r\n",
        "X_test = pca.transform(X_test)"
      ],
      "execution_count": 225,
      "outputs": []
    },
    {
      "cell_type": "code",
      "metadata": {
        "id": "RN6nIbK-MdVh"
      },
      "source": [
        "# Training and making Predictions\r\n",
        "# Using Random Forest Classifier\r\n",
        "\r\n",
        "from sklearn.ensemble import RandomForestClassifier\r\n",
        "\r\n",
        "classifier = RandomForestClassifier(max_depth=2, random_state=0)\r\n",
        "classifier.fit(X_train, y_train)\r\n",
        "\r\n",
        "# Predicting the Test set results\r\n",
        "y_pred = classifier.predict(X_test)"
      ],
      "execution_count": 226,
      "outputs": []
    },
    {
      "cell_type": "code",
      "metadata": {
        "id": "OSo8lg4pMz2M"
      },
      "source": [
        "# Performance Evaluation\r\n",
        "\r\n",
        "from sklearn.metrics import confusion_matrix\r\n",
        "from sklearn.metrics import accuracy_score\r\n",
        "\r\n",
        "cm = confusion_matrix(y_test, y_pred)\r\n",
        "print(cm)\r\n",
        "print('Accuracy' , accuracy_score(y_test, y_pred))"
      ],
      "execution_count": null,
      "outputs": []
    },
    {
      "cell_type": "markdown",
      "metadata": {
        "id": "xrmHVMVsVS--"
      },
      "source": [
        "## 7. Follow up questions"
      ]
    },
    {
      "cell_type": "markdown",
      "metadata": {
        "id": "HPQviDmNtta8"
      },
      "source": [
        "### a). Did we have the right data?"
      ]
    },
    {
      "cell_type": "markdown",
      "metadata": {
        "id": "jwakvvfui1Zi"
      },
      "source": [
        "The data was inclusive. Appropriate for the analyses though one country suffered in terms of having a little data."
      ]
    },
    {
      "cell_type": "markdown",
      "metadata": {
        "id": "qjFHK1CKty7o"
      },
      "source": [
        "### b). Do we need other data to answer our question?"
      ]
    },
    {
      "cell_type": "markdown",
      "metadata": {
        "id": "ca0CDFt1mlrT"
      },
      "source": [
        "The data provided was sufficient. Uganda would need more data to get at better solutions for them."
      ]
    }
  ]
}